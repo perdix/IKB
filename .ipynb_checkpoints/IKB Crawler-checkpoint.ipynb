{
 "cells": [
  {
   "cell_type": "code",
   "execution_count": 82,
   "metadata": {
    "collapsed": false,
    "deletable": true,
    "editable": true
   },
   "outputs": [],
   "source": [
    "import requests\n",
    "from bs4 import BeautifulSoup\n",
    "import pandas as pd\n",
    "import os\n",
    "from datetime import datetime\n",
    "import json"
   ]
  },
  {
   "cell_type": "code",
   "execution_count": 118,
   "metadata": {
    "collapsed": false,
    "deletable": true,
    "editable": true
   },
   "outputs": [],
   "source": [
    "#page = requests.get(\"https://www.ikb.at/privat/baeder/aktuelle-auslastung/\")\n",
    "page = requests.get(\"http://sas.ikb.at/ks/baeder_auslastung.aspx?segment=privat\")\n",
    "soup = BeautifulSoup(page.content, 'lxml')\n",
    "\n",
    "#Amras\n",
    "amras = soup.find(id=\"cphInhalt_pnlHBA_Bad\").find(class_=\"info-block\").span.span.text\n",
    "#O-Dorf\n",
    "o_dorf = soup.find(id=\"cphInhalt_pnlHBO_Bad\").find(class_=\"info-block\").span.span.text\n",
    "#Hötting\n",
    "hoetting= soup.find(id=\"cphInhalt_pnlHBH_Bad\").find(class_=\"info-block\").span.span.text\n",
    "\n",
    "\n",
    "# Look for current weather\n",
    "OWMID = os.environ['OWMID']\n",
    "weather_page = requests.get('http://api.openweathermap.org/data/2.5/weather?q=Innsbruck,%20ATE&appid=OWMID')\n",
    "weather = json.loads(weather_page.content)\n",
    "temp = weather['main']['temp']\n",
    "humidity = int(weather['main']['humidity'])/100\n",
    "clouds = int(weather['clouds']['all'])/100\n",
    "\n",
    "# Current time\n",
    "\n",
    "timestamp = datetime.now()\n",
    "year = timestamp.strftime('%Y')\n",
    "month = timestamp.strftime('%m')\n",
    "day = timestamp.strftime('%d')\n",
    "hour = timestamp.strftime('%H')\n",
    "minute = timestamp.strftime('%M')\n",
    "day = timestamp.weekday()\n",
    "\n",
    "row = [{'temp':temp, 'humidity':humidity,'year':year, 'clouds':clouds, 'timestamp':timestamp,'day':day, 'hour':hour, 'minute':minute, 'month':month, 'day':day,  'amras': int(amras)/100, 'o_dorf': int(o_dorf)/100, 'hoetting': int(hoetting)/100} ]\n",
    "df = pd.DataFrame.from_dict(row)\n",
    "\n",
    "# Write to CSV\n",
    "if not os.path.isfile('ikb.csv'):\n",
    "    df.to_csv('ikb.csv', header ='column_names', index=False)\n",
    "else:\n",
    "    df.to_csv('ikb.csv', mode = 'a', header=False, index=False)"
   ]
  },
  {
   "cell_type": "code",
   "execution_count": 119,
   "metadata": {
    "collapsed": false,
    "deletable": true,
    "editable": true
   },
   "outputs": [
    {
     "data": {
      "text/html": [
       "<div>\n",
       "<table border=\"1\" class=\"dataframe\">\n",
       "  <thead>\n",
       "    <tr style=\"text-align: right;\">\n",
       "      <th></th>\n",
       "      <th>amras</th>\n",
       "      <th>clouds</th>\n",
       "      <th>day</th>\n",
       "      <th>hoetting</th>\n",
       "      <th>hour</th>\n",
       "      <th>humidity</th>\n",
       "      <th>minute</th>\n",
       "      <th>month</th>\n",
       "      <th>o_dorf</th>\n",
       "      <th>temp</th>\n",
       "      <th>timestamp</th>\n",
       "      <th>year</th>\n",
       "    </tr>\n",
       "  </thead>\n",
       "  <tbody>\n",
       "    <tr>\n",
       "      <th>0</th>\n",
       "      <td>0.02</td>\n",
       "      <td>0.75</td>\n",
       "      <td>4</td>\n",
       "      <td>0.45</td>\n",
       "      <td>19</td>\n",
       "      <td>0.93</td>\n",
       "      <td>45</td>\n",
       "      <td>4</td>\n",
       "      <td>0.44</td>\n",
       "      <td>275.33</td>\n",
       "      <td>2017-04-28 19:45:48.338225</td>\n",
       "      <td>2017</td>\n",
       "    </tr>\n",
       "  </tbody>\n",
       "</table>\n",
       "</div>"
      ],
      "text/plain": [
       "   amras  clouds  day  hoetting  hour  humidity  minute  month  o_dorf  \\\n",
       "0   0.02    0.75    4      0.45    19      0.93      45      4    0.44   \n",
       "\n",
       "     temp                   timestamp  year  \n",
       "0  275.33  2017-04-28 19:45:48.338225  2017  "
      ]
     },
     "execution_count": 119,
     "metadata": {},
     "output_type": "execute_result"
    }
   ],
   "source": [
    "new = pd.read_csv('ikb.csv')\n",
    "new.head()"
   ]
  },
  {
   "cell_type": "code",
   "execution_count": null,
   "metadata": {
    "collapsed": false,
    "deletable": true,
    "editable": true
   },
   "outputs": [],
   "source": []
  },
  {
   "cell_type": "code",
   "execution_count": 89,
   "metadata": {
    "collapsed": false,
    "deletable": true,
    "editable": true
   },
   "outputs": [],
   "source": []
  },
  {
   "cell_type": "code",
   "execution_count": 126,
   "metadata": {
    "collapsed": false,
    "deletable": true,
    "editable": true
   },
   "outputs": [
    {
     "ename": "KeyError",
     "evalue": "'OWMID'",
     "output_type": "error",
     "traceback": [
      "\u001b[0;31m---------------------------------------------------------------------------\u001b[0m",
      "\u001b[0;31mKeyError\u001b[0m                                  Traceback (most recent call last)",
      "\u001b[0;32m<ipython-input-126-952f03829344>\u001b[0m in \u001b[0;36m<module>\u001b[0;34m()\u001b[0m\n\u001b[0;32m----> 1\u001b[0;31m \u001b[0mOWMID\u001b[0m \u001b[0;34m=\u001b[0m \u001b[0mos\u001b[0m\u001b[0;34m.\u001b[0m\u001b[0menviron\u001b[0m\u001b[0;34m[\u001b[0m\u001b[0;34m'OWMID'\u001b[0m\u001b[0;34m]\u001b[0m\u001b[0;34m\u001b[0m\u001b[0m\n\u001b[0m\u001b[1;32m      2\u001b[0m \u001b[0mOWMID\u001b[0m\u001b[0;34m\u001b[0m\u001b[0m\n",
      "\u001b[0;32m/usr/local/Cellar/python3/3.6.0_1/Frameworks/Python.framework/Versions/3.6/lib/python3.6/os.py\u001b[0m in \u001b[0;36m__getitem__\u001b[0;34m(self, key)\u001b[0m\n\u001b[1;32m    667\u001b[0m         \u001b[0;32mexcept\u001b[0m \u001b[0mKeyError\u001b[0m\u001b[0;34m:\u001b[0m\u001b[0;34m\u001b[0m\u001b[0m\n\u001b[1;32m    668\u001b[0m             \u001b[0;31m# raise KeyError with the original key value\u001b[0m\u001b[0;34m\u001b[0m\u001b[0;34m\u001b[0m\u001b[0m\n\u001b[0;32m--> 669\u001b[0;31m             \u001b[0;32mraise\u001b[0m \u001b[0mKeyError\u001b[0m\u001b[0;34m(\u001b[0m\u001b[0mkey\u001b[0m\u001b[0;34m)\u001b[0m \u001b[0;32mfrom\u001b[0m \u001b[0;32mNone\u001b[0m\u001b[0;34m\u001b[0m\u001b[0m\n\u001b[0m\u001b[1;32m    670\u001b[0m         \u001b[0;32mreturn\u001b[0m \u001b[0mself\u001b[0m\u001b[0;34m.\u001b[0m\u001b[0mdecodevalue\u001b[0m\u001b[0;34m(\u001b[0m\u001b[0mvalue\u001b[0m\u001b[0;34m)\u001b[0m\u001b[0;34m\u001b[0m\u001b[0m\n\u001b[1;32m    671\u001b[0m \u001b[0;34m\u001b[0m\u001b[0m\n",
      "\u001b[0;31mKeyError\u001b[0m: 'OWMID'"
     ]
    }
   ],
   "source": [
    "OWMID = os.environ['OWMID']\n",
    "OWMID"
   ]
  },
  {
   "cell_type": "code",
   "execution_count": null,
   "metadata": {
    "collapsed": true,
    "deletable": true,
    "editable": true
   },
   "outputs": [],
   "source": []
  }
 ],
 "metadata": {
  "kernelspec": {
   "display_name": "Python 3",
   "language": "python",
   "name": "python3"
  },
  "language_info": {
   "codemirror_mode": {
    "name": "ipython",
    "version": 3
   },
   "file_extension": ".py",
   "mimetype": "text/x-python",
   "name": "python",
   "nbconvert_exporter": "python",
   "pygments_lexer": "ipython3",
   "version": "3.6.0"
  }
 },
 "nbformat": 4,
 "nbformat_minor": 2
}
